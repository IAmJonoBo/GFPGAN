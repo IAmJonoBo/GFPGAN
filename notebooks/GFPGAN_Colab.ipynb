{
 "cells": [
  {
   "cell_type": "markdown",
   "metadata": {},
   "source": [
    "# GFPGAN Colab Demo (Fork)\n",
    "\n",
    "This Colab notebook installs dependencies, clones this fork, downloads pretrained weights automatically, and runs the GFPGAN inference script on sample images."
   ]
  },
  {
   "cell_type": "code",
   "execution_count": null,
   "metadata": {
    "id": "env-setup"
   },
   "outputs": [],
   "source": [
    "#@title Install dependencies\n",
    "%%bash\n",
    "set -euxo pipefail\n",
    "python -V\n",
    "pip install --upgrade --quiet pip setuptools wheel\n",
    "# Ensure IPython deps are satisfied to avoid resolver warnings\n",
    "pip install --quiet -U ipython jedi\n",
    "# Install torch (GPU wheels if NVIDIA present)\n",
    "if command -v nvidia-smi >/dev/null 2>&1; then\n",
    "  echo 'Detected NVIDIA GPU; installing CUDA wheels'\n",
    "  pip install --quiet torch torchvision torchaudio --index-url https://download.pytorch.org/whl/cu121\n",
    "else\n",
    "  echo 'No NVIDIA GPU; installing CPU wheels'\n",
    "  pip install --quiet torch torchvision torchaudio\n",
    "fi\n",
    "# Core deps: Use BasicSR master to match modern torchvision API\n",
    "pip install --quiet --no-cache-dir --upgrade \"git+https://github.com/xinntao/BasicSR@master\" facexlib realesrgan opencv-python tqdm numpy PyYAML\n"
   ]
  },
  {
   "cell_type": "code",
   "execution_count": null,
   "metadata": {
    "id": "clone-repo"
   },
   "outputs": [],
   "source": [
    "#@title Clone this fork\n",
    "%%bash\n",
    "set -euxo pipefail\n",
    "if [ ! -d GFPGAN ]; then\n",
    "  git clone --depth 1 https://github.com/IAmJonoBo/GFPGAN.git\n",
    "fi\n",
    "cd GFPGAN\n",
    "echo \"Repo at: $(pwd)\"\n",
    "ls -la inputs || true\n"
   ]
  },
  {
   "cell_type": "code",
   "execution_count": null,
   "metadata": {
    "id": "run-inference"
   },
   "outputs": [],
   "source": [
    "#@title Run inference on sample images\n",
    "%%bash\n",
    "set -euxo pipefail\n",
    "cd GFPGAN\n",
    "python inference_gfpgan.py -i inputs/whole_imgs -o results -v 1.4 -s 2\n",
    "echo \"Results written to ./GFPGAN/results\"\n"
   ]
  },
  {
   "cell_type": "code",
   "execution_count": null,
   "id": "a48b7758",
   "metadata": {
    "id": "display-results"
   },
   "outputs": [],
   "source": [
    "# @title Display a few restored images\n",
    "from IPython.display import display, Image\n",
    "import glob\n",
    "import os\n",
    "\n",
    "base = \"GFPGAN/results/restored_imgs\"\n",
    "imgs = sorted(glob.glob(os.path.join(base, \"*\")))[:4]\n",
    "print(f\"Displaying {len(imgs)} images from\", base)\n",
    "for p in imgs:\n",
    "    display(Image(filename=p))"
   ]
  },
  {
   "cell_type": "code",
   "execution_count": null,
   "id": "b54b78da",
   "metadata": {
    "id": "upload-run"
   },
   "outputs": [],
   "source": [
    "# @title Upload your own images and run GFPGAN\n",
    "# @markdown Upload one or more images; they will be processed with the settings below.\n",
    "from google.colab import files\n",
    "import os\n",
    "import shutil\n",
    "import subprocess\n",
    "import sys\n",
    "\n",
    "upload_dir = \"GFPGAN/uploads\"\n",
    "os.makedirs(upload_dir, exist_ok=True)\n",
    "uploaded = files.upload()\n",
    "for name, data in uploaded.items():\n",
    "    # Save uploaded file and move into repo uploads folder\n",
    "    with open(name, \"wb\") as f:\n",
    "        f.write(data)\n",
    "    shutil.move(name, os.path.join(upload_dir, os.path.basename(name)))\n",
    "\n",
    "# Inference parameters\n",
    "version = \"1.4\"  # @param ['1', '1.2', '1.3', '1.4']\n",
    "scale = 2  # @param {type: 'integer'}\n",
    "only_center_face = False  # @param {type: 'boolean'}\n",
    "aligned = False  # @param {type: 'boolean'}\n",
    "\n",
    "print(\"Running inference on uploads...\")\n",
    "cmd = [sys.executable, \"inference_gfpgan.py\", \"-i\", \"uploads\", \"-o\", \"results\", \"-v\", str(version), \"-s\", str(scale)]\n",
    "if only_center_face:\n",
    "    cmd.append(\"--only_center_face\")\n",
    "if aligned:\n",
    "    cmd.append(\"--aligned\")\n",
    "subprocess.run(cmd, cwd=\"GFPGAN\", check=False)\n",
    "print(\"Done. See GFPGAN/results\")"
   ]
  },
  {
   "cell_type": "markdown",
   "metadata": {},
   "source": [
    "Notes:\n",
    "- GPU acceleration is optional; uncomment the CUDA wheel index in the install cell to use GPU on Colab.\n",
    "- The inference script will automatically download the GFPGAN v1.4 weights if not present.\n",
    "- For large batches, consider enabling the Real-ESRGAN background upsampler by keeping default settings (it is auto-disabled on CPU)."
   ]
  }
 ],
 "metadata": {
  "colab": {
   "provenance": []
  },
  "kernelspec": {
   "display_name": "Python 3",
   "name": "python3"
  },
  "language_info": {
   "name": "python",
   "version": "3"
  }
 },
 "nbformat": 4,
 "nbformat_minor": 5
}
