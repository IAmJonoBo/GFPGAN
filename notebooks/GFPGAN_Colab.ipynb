{
  "cells": [
    {
      "cell_type": "markdown",
      "metadata": {},
      "source": [
        "# GFPGAN Colab Demo (Fork)\n",
        "\n",
        "This Colab notebook installs dependencies, clones this fork, downloads pretrained weights automatically, and runs the GFPGAN inference script on sample images."
      ]
    },
    {
      "cell_type": "code",
      "metadata": {
        "id": "env-setup"
      },
      "source": [
        "#@title Install dependencies\n",
        "%%bash\n",
        "set -euxo pipefail\n",
        "python -V\n",
        "pip install --upgrade --quiet pip setuptools wheel\n",
        "# Install PyTorch (CPU by default). To use GPU wheels on Colab, uncomment the CUDA index line.\n",
        "pip install --quiet torch torchvision torchaudio\n",
        "# pip install --quiet torch torchvision torchaudio --index-url https://download.pytorch.org/whl/cu121\n",
        "# Core deps\n",
        "pip install --quiet gfpgan basicsr facexlib realesrgan opencv-python tqdm numpy PyYAML\n"
      ],
      "execution_count": null,
      "outputs": []
    },
    {
      "cell_type": "code",
      "metadata": {
        "id": "clone-repo"
      },
      "source": [
        "#@title Clone this fork\n",
        "%%bash\n",
        "set -euxo pipefail\n",
        "if [ ! -d GFPGAN ]; then\n",
        "  git clone --depth 1 https://github.com/IAmJonoBo/GFPGAN.git\n",
        "fi\n",
        "cd GFPGAN\n",
        "echo \"Repo at: $(pwd)\"\n",
        "ls -la inputs || true\n"
      ],
      "execution_count": null,
      "outputs": []
    },
    {
      "cell_type": "code",
      "metadata": {
        "id": "run-inference"
      },
      "source": [
        "#@title Run inference on sample images\n",
        "%%bash\n",
        "set -euxo pipefail\n",
        "cd GFPGAN\n",
        "python inference_gfpgan.py -i inputs/whole_imgs -o results -v 1.4 -s 2\n",
        "echo \"Results written to ./GFPGAN/results\"\n"
      ],
      "execution_count": null,
      "outputs": []
    },
    {
      "cell_type": "code",
      "metadata": {
        "id": "display-results"
      },
      "source": [
        "#@title Display a few restored images\n",
        "from IPython.display import display, Image\n",
        "import glob, os\n",
        "base = 'GFPGAN/results/restored_imgs'\n",
        "imgs = sorted(glob.glob(os.path.join(base, '*')))[:4]\n",
        "print(f'Displaying {len(imgs)} images from', base)\n",
        "for p in imgs:\n",
        "    display(Image(filename=p))\n"
      ],
      "execution_count": null,
      "outputs": []
    },
    {
      "cell_type": "markdown",
      "metadata": {},
      "source": [
        "Notes:\n",
        "- GPU acceleration is optional; uncomment the CUDA wheel index in the install cell to use GPU on Colab.\n",
        "- The inference script will automatically download the GFPGAN v1.4 weights if not present.\n",
        "- For large batches, consider enabling the Real-ESRGAN background upsampler by keeping default settings (it is auto-disabled on CPU)."
      ]
    }
  ],
  "metadata": {
    "colab": {
      "provenance": []
    },
    "kernelspec": {
      "display_name": "Python 3",
      "name": "python3"
    },
    "language_info": {
      "name": "python",
      "version": "3"
    }
  },
  "nbformat": 4,
  "nbformat_minor": 5
}
