{
 "cells": [
  {
   "cell_type": "markdown",
   "id": "5f989d4f",
   "metadata": {},
   "source": [
    "# Document Preset Demo (Dry-Run)\n",
    "\n",
    "This notebook shows how to invoke the GFPP CLI with the `document` preset in dry-run mode.\n",
    "\n",
    "Notes:\n",
    "- Uses `assets/gfpgan_logo.png` for a quick, local run.\n",
    "- `--dry-run` avoids downloading any model weights.\n",
    "- Remove dry-run to perform actual restoration (see docs for required extras)."
   ]
  },
  {
   "cell_type": "code",
   "execution_count": null,
   "id": "48f08808",
   "metadata": {},
   "outputs": [],
   "source": [
    "from src.gfpp.cli import cmd_run\n",
    "import os\n",
    "\n",
    "inp = os.path.join('assets','gfpgan_logo.png')\n",
    "out = os.path.join('results','dry_demo','notebooks','document')\n",
    "os.makedirs(out, exist_ok=True)\n",
    "\n",
    "args = [\n",
    "    '--input', inp,\n",
    "    '--output', out,\n",
    "    '--preset', 'document',\n",
    "    '--metrics', 'off',\n",
    "    '--dry-run'\n",
    "]\n",
    "\n",
    "code = cmd_run(args)\n",
    "print('exit', code)\n",
    "print('Planned results directory:', out)"
   ]
  },
  {
   "cell_type": "code",
   "execution_count": null,
   "id": "c06f965e",
   "metadata": {},
   "outputs": [],
   "source": [
    "# Optional: print any manifest info if present\n",
    "from glob import glob\n",
    "import json\n",
    "\n",
    "manifests = glob(os.path.join(out, 'manifest*.json'))\n",
    "print('Found manifests:', manifests)\n",
    "if manifests:\n",
    "    try:\n",
    "        with open(manifests[0], 'r') as f:\n",
    "            data = json.load(f)\n",
    "        env = data.get('env', {})\n",
    "        print('runtime:', env.get('runtime'))\n",
    "        print('images recorded:', len(data.get('images', [])))\n",
    "    except Exception as e:\n",
    "        print('Manifest read skipped:', e)"
   ]
  }
 ],
 "metadata": {
  "language_info": {
   "name": "python"
  }
 },
 "nbformat": 4,
 "nbformat_minor": 5
}
