{
 "cells": [
  {
   "cell_type": "markdown",
   "id": "96d19464",
   "metadata": {},
   "source": [
    "# Python `continue` statement: practical patterns, comparisons, and tests\n",
    "\n",
    "This notebook demonstrates common and advanced usages of `continue` across for/while loops, data cleaning, nested loops, for-else behavior, and micro-benchmarks, with tests you can run inline."
   ]
  },
  {
   "cell_type": "code",
   "execution_count": null,
   "id": "d8da7578",
   "metadata": {},
   "outputs": [],
   "source": [
    "# 1) Import and Environment Check\n",
    "import sys, timeit, io\n",
    "print(sys.version)\n",
    "assert sys.version_info >= (3, 8), \"Python >= 3.8 required\"\n",
    "print(\"env-ok\")"
   ]
  },
  {
   "cell_type": "code",
   "execution_count": null,
   "id": "65068be7",
   "metadata": {},
   "outputs": [],
   "source": [
    "# 2) Basic For Loop with continue\n",
    "out = []\n",
    "for i in range(10):\n",
    "    if i % 2 == 1:\n",
    "        continue\n",
    "    out.append(i)\n",
    "print(\"even:\", out)\n",
    "out"
   ]
  },
  {
   "cell_type": "code",
   "execution_count": null,
   "id": "022ec0dd",
   "metadata": {},
   "outputs": [],
   "source": [
    "# 3) Using continue in while Loops\n",
    "i = 0\n",
    "seen = []\n",
    "while i < 10:\n",
    "    i += 1  # increment early to avoid infinite loop\n",
    "    if i % 3 == 0:\n",
    "        continue\n",
    "    seen.append(i)\n",
    "print(seen)\n",
    "seen"
   ]
  },
  {
   "cell_type": "code",
   "execution_count": null,
   "id": "43234e69",
   "metadata": {},
   "outputs": [],
   "source": [
    "# 4) Skipping Invalid Data with try/except + continue\n",
    "data = [\"10\", \"20\", \"x\", \"30\", \"-1\", \"oops\"]\n",
    "parsed = []\n",
    "for s in data:\n",
    "    try:\n",
    "        parsed.append(int(s))\n",
    "    except ValueError:\n",
    "        print(\"skip:\", s)\n",
    "        continue\n",
    "print(parsed)\n",
    "parsed"
   ]
  },
  {
   "cell_type": "code",
   "execution_count": null,
   "id": "c3b5d208",
   "metadata": {},
   "outputs": [],
   "source": [
    "# 5) Nested Loops: continue in Inner vs Outer Loop\n",
    "matrix = [\n",
    "    [1, 2, 3],\n",
    "    [4, 5, 6],\n",
    "]\n",
    "# Inner skip: skip values equal to 5\n",
    "res_inner = []\n",
    "for r in matrix:\n",
    "    row = []\n",
    "    for v in r:\n",
    "        if v == 5:\n",
    "            continue\n",
    "        row.append(v)\n",
    "    res_inner.append(row)\n",
    "\n",
    "# Outer skip via flag: skip entire row if it contains a 2\n",
    "res_outer = []\n",
    "for r in matrix:\n",
    "    skip_row = False\n",
    "    for v in r:\n",
    "        if v == 2:\n",
    "            skip_row = True\n",
    "            break\n",
    "    if skip_row:\n",
    "        continue\n",
    "    res_outer.append(list(r))\n",
    "res_inner, res_outer"
   ]
  },
  {
   "cell_type": "code",
   "execution_count": null,
   "id": "5f3df318",
   "metadata": {},
   "outputs": [],
   "source": [
    "# 6) for-else Behavior with continue\n",
    "out = []\n",
    "for i in range(5):\n",
    "    if i == 2:\n",
    "        continue  # does NOT prevent else\n",
    "    out.append(i)\n",
    "else:\n",
    "    out.append(\"else-ran\")\n",
    "print(out)\n",
    "\n",
    "out2 = []\n",
    "for i in range(5):\n",
    "    if i == 2:\n",
    "        break  # prevents else\n",
    "    out2.append(i)\n",
    "else:\n",
    "    out2.append(\"else-ran\")\n",
    "print(out2)\n",
    "(out, out2)"
   ]
  },
  {
   "cell_type": "code",
   "execution_count": null,
   "id": "b948b4d7",
   "metadata": {},
   "outputs": [],
   "source": [
    "# 7) continue vs break vs pass\n",
    "vals = []\n",
    "for i in range(4):\n",
    "    if i == 1:\n",
    "        continue\n",
    "    if i == 3:\n",
    "        break\n",
    "    if i == 2:\n",
    "        pass  # no-op\n",
    "    vals.append(i)\n",
    "vals"
   ]
  },
  {
   "cell_type": "code",
   "execution_count": null,
   "id": "a2116adf",
   "metadata": {},
   "outputs": [],
   "source": [
    "# 8) File-like Processing: Skip Blank and Comment Lines\n",
    "text = io.StringIO(\"\"\"\n",
    "# header\n",
    "\n",
    "alpha\n",
    "\n",
    "# comment\n",
    "beta\n",
    "\"\"\")\n",
    "cleaned = []\n",
    "for line in text:\n",
    "    s = line.strip()\n",
    "    if not s or s.startswith('#'):\n",
    "        continue\n",
    "    cleaned.append(s)\n",
    "print(cleaned)\n",
    "cleaned"
   ]
  },
  {
   "cell_type": "code",
   "execution_count": null,
   "id": "8b5096d1",
   "metadata": {},
   "outputs": [],
   "source": [
    "# 9) Micro-benchmark: continue vs if Guards (timeit)\n",
    "setup = \"\"\"\n",
    "N = 10000\n",
    "\"\"\"\n",
    "stmt_continue = \"\"\"\n",
    "s = 0\n",
    "for i in range(N):\n",
    "    if i % 2:\n",
    "        continue\n",
    "    s += i\n",
    "\"\"\"\n",
    "stmt_if_guard = \"\"\"\n",
    "s = 0\n",
    "for i in range(N):\n",
    "    if not (i % 2):\n",
    "        s += i\n",
    "\"\"\"\n",
    "reps = 5\n",
    "res1 = timeit.repeat(stmt_continue, setup=setup, repeat=reps, number=200)\n",
    "res2 = timeit.repeat(stmt_if_guard, setup=setup, repeat=reps, number=200)\n",
    "print(\"continue min/median:\", min(res1), sorted(res1)[len(res1)//2])\n",
    "print(\"if-guard min/median:\", min(res2), sorted(res2)[len(res2)//2])"
   ]
  },
  {
   "cell_type": "code",
   "execution_count": null,
   "id": "e89528c0",
   "metadata": {},
   "outputs": [],
   "source": [
    "# 10) Unit Tests for continue Examples (pytest style)\n",
    "\n",
    "def filter_even(xs):\n",
    "    out = []\n",
    "    for x in xs:\n",
    "        if x % 2:\n",
    "            continue\n",
    "        out.append(x)\n",
    "    return out\n",
    "\n",
    "\n",
    "def parse_ints(xs):\n",
    "    out = []\n",
    "    for s in xs:\n",
    "        try:\n",
    "            out.append(int(s))\n",
    "        except ValueError:\n",
    "            continue\n",
    "    return out\n",
    "\n",
    "# Tiny asserts (do not require pytest runner)\n",
    "assert filter_even(list(range(6))) == [0, 2, 4]\n",
    "assert parse_ints([\"1\", \"x\", \"2\"]) == [1, 2]\n",
    "print(\"tests-ok\")"
   ]
  },
  {
   "cell_type": "code",
   "execution_count": null,
   "id": "3df0738a",
   "metadata": {},
   "outputs": [],
   "source": [
    "# 11) Pitfall Demo: continue inside finally (SyntaxError)\n",
    "code = \"\"\"\n",
    "for i in range(3):\n",
    "    try:\n",
    "        pass\n",
    "    finally:\n",
    "        continue\n",
    "\"\"\"\n",
    "try:\n",
    "    compile(code, \"<string>\", \"exec\")\n",
    "except SyntaxError as e:\n",
    "    print(\"caught:\", e.__class__.__name__, str(e).splitlines()[0])\n",
    "else:\n",
    "    print(\"no-syntax-error?!\")"
   ]
  }
 ],
 "metadata": {
  "language_info": {
   "name": "python"
  }
 },
 "nbformat": 4,
 "nbformat_minor": 5
}
