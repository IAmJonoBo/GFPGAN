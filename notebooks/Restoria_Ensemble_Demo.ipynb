{
 "cells": [
  {
   "cell_type": "code",
   "execution_count": null,
   "id": "1dcbfc52",
   "metadata": {},
   "outputs": [],
   "source": [
    "# Environment & determinism (ensemble demo)\n",
    "import os, sys, json, random\n",
    "try:\n",
    "    import numpy as np\n",
    "except Exception:\n",
    "    np = None\n",
    "SEED = 123\n",
    "random.seed(SEED)\n",
    "if np is not None:\n",
    "    np.random.seed(SEED)\n",
    "print(json.dumps({'seed': SEED, 'ci': os.getenv('CI','0')=='1'}, indent=2))"
   ]
  },
  {
   "cell_type": "markdown",
   "id": "91f2553c",
   "metadata": {},
   "source": [
    "# Restoria Ensemble Demo\n",
    "\n",
    "Demonstrates combining multiple backends in Restoria for improved restoration quality."
   ]
  },
  {
   "cell_type": "markdown",
   "id": "528d3937",
   "metadata": {},
   "source": [
    "## Optional extras (Colab only)\n",
    "Install optional ORT CPU and metrics libraries if you're on Colab and want faster runs and additional metrics. Safe to skip."
   ]
  },
  {
   "cell_type": "code",
   "execution_count": null,
   "id": "33b0dedc",
   "metadata": {},
   "outputs": [],
   "source": [
    "import os, sys, subprocess\n",
    "IN_COLAB = \"COLAB_GPU\" in os.environ or \"google.colab\" in sys.modules\n",
    "if IN_COLAB and not os.environ.get('NB_CI_SMOKE'):\n",
    "    def pip_install(pkgs):\n",
    "        try:\n",
    "            subprocess.check_call([sys.executable, '-m', 'pip', 'install', '-q'] + pkgs)\n",
    "        except Exception as e:\n",
    "            print('[WARN] pip failed:', e)\n",
    "    extras = [\n",
    "        'onnxruntime>=1.17,<2',\n",
    "        'lpips>=0.1.4',\n",
    "        'git+https://github.com/richzhang/PerceptualSimilarity.git@master#egg=lpips-extra',\n",
    "        \"torchdists>=0.1.0; python_version>='3.9'\",\n",
    "    ]\n",
    "    print('[INFO] Installing optional extras…')\n",
    "    pip_install(extras)\n",
    "else:\n",
    "    print('[INFO] Extras install skipped (not in Colab or CI).')"
   ]
  },
  {
   "cell_type": "markdown",
   "id": "f9b2126f",
   "metadata": {},
   "source": [
    "# Ensemble Backend Demo (Dry-Run)\n",
    "\n",
    "This notebook shows how to invoke the GFPP CLI programmatically to simulate an ensemble run without downloading models.\n",
    "\n",
    "Notes:\n",
    "- We use a small sample image from `assets/` and enable `--dry-run` so no weights are downloaded.\n",
    "- You can tweak `--ensemble-backends` and `--ensemble-weights` safely in dry-run mode to see the planned config.\n",
    "- To actually restore faces, remove `--dry-run` and install the appropriate extras per the docs."
   ]
  },
  {
   "cell_type": "code",
   "execution_count": null,
   "id": "8e98febc",
   "metadata": {},
   "outputs": [],
   "source": [
    "# Minimal imports (avoid heavy libraries in dry-run)\n",
    "from src.gfpp.cli import cmd_run\n",
    "import os\n",
    "\n",
    "# Inputs/outputs\n",
    "inp = os.path.join('assets','gfpgan_logo.png')\n",
    "out = os.path.join('results','dry_demo','notebooks','ensemble')\n",
    "os.makedirs(out, exist_ok=True)\n",
    "\n",
    "# Ensemble configuration (safe in dry-run)\n",
    "args = [\n",
    "    '--input', inp,\n",
    "    '--output', out,\n",
    "    '--backend', 'ensemble',\n",
    "    '--ensemble-backends', 'gfpgan,codeformer,restoreformerpp',\n",
    "    '--ensemble-weights', '0.6,0.2,0.2',\n",
    "    '--metrics', 'off',\n",
    "    '--dry-run'\n",
    "]\n",
    "\n",
    "code = cmd_run(args)\n",
    "print('exit', code)\n",
    "print('Planned results directory:', out)"
   ]
  },
  {
   "cell_type": "markdown",
   "id": "a5e6b8b1",
   "metadata": {},
   "source": [
    "### Optional: compute fast metrics\n",
    "Run a short fast-metrics pass (if dependencies are available). Skipped automatically in CI and when metrics packages are missing."
   ]
  },
  {
   "cell_type": "code",
   "execution_count": null,
   "id": "e9b421b4",
   "metadata": {},
   "outputs": [],
   "source": [
    "import os, sys\n",
    "if not os.environ.get('NB_CI_SMOKE'):\n",
    "    try:\n",
    "        if 'restoria' not in sys.modules:\n",
    "            import sys as _sys\n",
    "            _sys.path.insert(0, '/content/Restoria/src') if '/content' in _sys.path[0] else None\n",
    "        from restoria.cli.main import main as restoria_main\n",
    "        img = globals().get('img', 'assets/gfpgan_logo.png')\n",
    "        out_dir = globals().get('out_dir', 'results/dry_demo/ensemble_demo')\n",
    "        restoria_main(['run','--input', img,'--output', out_dir,'--device','auto','--metrics','fast'])\n",
    "    except Exception as e:\n",
    "        print('[WARN] fast metrics run skipped:', e)\n",
    "else:\n",
    "    print('[INFO] Skipped in CI smoke mode.')"
   ]
  },
  {
   "cell_type": "code",
   "execution_count": null,
   "id": "6fac6116",
   "metadata": {},
   "outputs": [],
   "source": [
    "# Optional: inspect manifest if written during dry-run\n",
    "from glob import glob\n",
    "import json\n",
    "\n",
    "manifests = glob(os.path.join(out, 'manifest*.json'))\n",
    "print('Found manifests:', manifests)\n",
    "if manifests:\n",
    "    try:\n",
    "        with open(manifests[0], 'r') as f:\n",
    "            data = json.load(f)\n",
    "        print('env.runtime keys:', list((data.get('env', {}) or {}).get('runtime', {}).keys()))\n",
    "        print('images recorded:', len(data.get('images') or []))\n",
    "    except Exception as e:\n",
    "        print('Manifest read skipped:', e)"
   ]
  },
  {
   "cell_type": "code",
   "execution_count": null,
   "id": "d3fd3d7a",
   "metadata": {},
   "outputs": [],
   "source": [
    "# Quickstart (dry-run) ensemble demo\n",
    "import os, sys\n",
    "from pathlib import Path\n",
    "if 'restoria' not in sys.modules:\n",
    "    sys.path.insert(0, str(Path.cwd() / 'src'))\n",
    "from restoria.cli.main import main as restoria_main\n",
    "img = 'assets/gfpgan_logo.png' if os.path.exists('assets/gfpgan_logo.png') else 'tmp/blank.png'\n",
    "out_dir = 'results/dry_demo/ensemble'\n",
    "rc = restoria_main(['run','--input', img,'--output', out_dir,'--dry-run','--device','auto'])\n",
    "print('rc:', rc)"
   ]
  },
  {
   "cell_type": "code",
   "execution_count": null,
   "id": "8a1813f6",
   "metadata": {},
   "outputs": [],
   "source": [
    "# Optional: inspect manifest if written during dry-run\n",
    "import json, os\n",
    "mp = os.path.join('results/dry_demo/ensemble','manifest.json')\n",
    "if os.path.exists(mp):\n",
    "    m = json.load(open(mp))\n",
    "    print('device:', m.get('device'))"
   ]
  },
  {
   "cell_type": "markdown",
   "id": "e06141ec",
   "metadata": {},
   "source": [
    "### Real run (optional)\n",
    "\n",
    "Try a real run and compare outputs across backends by repeating with different `--backend` values:\n",
    "\n",
    "```python\n",
    "from restoria.cli.main import main as restoria_main\n",
    "img = 'assets/gfpgan_logo.png'\n",
    "out_dir = 'results/real_demo/ensemble'\n",
    "for be in ['gfpgan','gfpgan-ort','codeformer']:\n",
    "    restoria_main(['run','--input', img,'--output', f\"{out_dir}_{be}\",'--device','auto'])\n",
    "```"
   ]
  },
  {
   "cell_type": "markdown",
   "id": "c07198aa",
   "metadata": {},
   "source": [
    "## Plan and outputs summary\n",
    "Use this to quickly view device, chosen backend, and a sample of metrics after your runs."
   ]
  },
  {
   "cell_type": "code",
   "execution_count": null,
   "id": "8ad9033f",
   "metadata": {},
   "outputs": [],
   "source": [
    "import json, os\n",
    "\n",
    "def summarize_out(out_dir):\n",
    "    man = os.path.join(out_dir, 'manifest.json')\n",
    "    met = os.path.join(out_dir, 'metrics.json')\n",
    "    if os.path.exists(man):\n",
    "        m = json.load(open(man))\n",
    "        env = m.get('env', {})\n",
    "        plan = m.get('plan', {})\n",
    "        print('device:', env.get('resolved_device') or env.get('device'))\n",
    "        if plan:\n",
    "            print('backend:', plan.get('backend'), '| reason:', plan.get('reason'))\n",
    "    else:\n",
    "        print('manifest.json missing')\n",
    "    if os.path.exists(met):\n",
    "        data = json.load(open(met))\n",
    "        rows = data.get('records') or []\n",
    "        print('metrics records:', len(rows))\n",
    "        if rows:\n",
    "            m0 = rows[0].get('metrics') or {}\n",
    "            for k in ['arcface_cosine','lpips','dists']:\n",
    "                if k in m0:\n",
    "                    print(k, '=', m0[k])\n",
    "    else:\n",
    "        print('metrics.json missing')\n",
    "\n",
    "out_dir = globals().get('out_dir', 'results/dry_demo/ensemble_demo')\n",
    "try:\n",
    "    summarize_out(out_dir)\n",
    "except Exception as e:\n",
    "    print('[WARN] summary failed:', e)"
   ]
  }
 ],
 "metadata": {
  "language_info": {
   "name": "python"
  }
 },
 "nbformat": 4,
 "nbformat_minor": 5
}
