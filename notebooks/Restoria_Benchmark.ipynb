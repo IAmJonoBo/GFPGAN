{
 "cells": [
  {
   "cell_type": "code",
   "execution_count": null,
   "id": "0c0d76aa",
   "metadata": {},
   "outputs": [],
   "source": [
    "# Environment & determinism (benchmark)\n",
    "import os, sys, json, random\n",
    "SEED = 123\n",
    "random.seed(SEED)\n",
    "print(json.dumps({'seed': SEED, 'ci': os.getenv('CI','0')=='1'}, indent=2))"
   ]
  },
  {
   "cell_type": "markdown",
   "id": "e50d39a2",
   "metadata": {},
   "source": [
    "# Restoria Benchmark\n",
    "\n",
    "Run quick benchmarks comparing Restoria backends, modes (eager/torch.compile/ORT), and metrics."
   ]
  },
  {
   "cell_type": "markdown",
   "id": "655cd090",
   "metadata": {},
   "source": [
    "## Optional extras (Colab only)\n",
    "Install optional ORT CPU and metrics (LPIPS/DISTS). ArcFace is heavy and skipped by default. Safe to skip."
   ]
  },
  {
   "cell_type": "code",
   "execution_count": null,
   "id": "0e766690",
   "metadata": {},
   "outputs": [],
   "source": [
    "import os, sys, subprocess\n",
    "IN_COLAB = \"COLAB_GPU\" in os.environ or \"google.colab\" in sys.modules\n",
    "if IN_COLAB and not os.environ.get('NB_CI_SMOKE'):\n",
    "    def pip_install(pkgs):\n",
    "        try:\n",
    "            subprocess.check_call([sys.executable, '-m', 'pip', 'install', '-q'] + pkgs)\n",
    "        except Exception as e:\n",
    "            print('[WARN] pip failed:', e)\n",
    "    extras = [\n",
    "        'onnxruntime>=1.17,<2',\n",
    "        'lpips>=0.1.4',\n",
    "        'git+https://github.com/richzhang/PerceptualSimilarity.git@master#egg=lpips-extra',\n",
    "        \"torchdists>=0.1.0; python_version>='3.9'\",\n",
    "    ]\n",
    "    print('[INFO] Installing optional extras…')\n",
    "    pip_install(extras)\n",
    "else:\n",
    "    print('[INFO] Extras install skipped (not in Colab or CI).')"
   ]
  },
  {
   "cell_type": "code",
   "execution_count": null,
   "id": "cdcc723d",
   "metadata": {},
   "outputs": [],
   "source": [
    "# Quickstart (dry-run) benchmark\n",
    "import os, sys\n",
    "from pathlib import Path\n",
    "if 'restoria' not in sys.modules:\n",
    "    sys.path.insert(0, str(Path.cwd() / 'src'))\n",
    "from restoria.cli.main import main as restoria_main\n",
    "img = 'assets/gfpgan_logo.png' if os.path.exists('assets/gfpgan_logo.png') else 'tmp/blank.png'\n",
    "out_dir = 'results/dry_demo/benchmark'\n",
    "rc = restoria_main(['run','--input', img,'--output', out_dir,'--dry-run','--device','auto'])\n",
    "print('rc:', rc)"
   ]
  },
  {
   "cell_type": "markdown",
   "id": "41aa1420",
   "metadata": {},
   "source": [
    "### Real run (optional)\n",
    "\n",
    "Collect quick metrics across modes and backends (keep inputs small in Colab):\n",
    "\n",
    "```python\n",
    "from restoria.cli.main import main as restoria_main\n",
    "img = 'assets/gfpgan_logo.png'\n",
    "for be in ['gfpgan','gfpgan-ort']:\n",
    "    for compile_flag in [False, True]:\n",
    "        out_dir = f'results/real_demo/bench_{be}_compile_{int(compile_flag)}'\n",
    "        args = ['run','--input', img,'--output', out_dir,'--device','auto','--metrics','fast']\n",
    "        if compile_flag:\n",
    "            args.append('--compile')\n",
    "        restoria_main(args)\n",
    "```"
   ]
  },
  {
   "cell_type": "markdown",
   "id": "a935e06d",
   "metadata": {},
   "source": [
    "## Plan and outputs summary\n",
    "Quickly inspect the chosen device, backend, and a few metrics from your run."
   ]
  },
  {
   "cell_type": "code",
   "execution_count": null,
   "id": "8cf08023",
   "metadata": {},
   "outputs": [],
   "source": [
    "import json, os\n",
    "\n",
    "def summarize_out(out_dir):\n",
    "    man = os.path.join(out_dir, 'manifest.json')\n",
    "    met = os.path.join(out_dir, 'metrics.json')\n",
    "    if os.path.exists(man):\n",
    "        m = json.load(open(man))\n",
    "        env = m.get('env', {})\n",
    "        plan = m.get('plan', {})\n",
    "        print('device:', env.get('resolved_device') or env.get('device'))\n",
    "        if plan:\n",
    "            print('backend:', plan.get('backend'), '| reason:', plan.get('reason'))\n",
    "    else:\n",
    "        print('manifest.json missing')\n",
    "    if os.path.exists(met):\n",
    "        data = json.load(open(met))\n",
    "        rows = data.get('records') or []\n",
    "        print('metrics records:', len(rows))\n",
    "        if rows:\n",
    "            m0 = rows[0].get('metrics') or {}\n",
    "            for k in ['arcface_cosine','lpips','dists']:\n",
    "                if k in m0:\n",
    "                    print(k, '=', m0[k])\n",
    "    else:\n",
    "        print('metrics.json missing')\n",
    "\n",
    "out_dir = globals().get('out_dir', 'results/dry_demo/bench_demo')\n",
    "try:\n",
    "    summarize_out(out_dir)\n",
    "except Exception as e:\n",
    "    print('[WARN] summary failed:', e)"
   ]
  }
 ],
 "metadata": {
  "language_info": {
   "name": "python"
  }
 },
 "nbformat": 4,
 "nbformat_minor": 5
}
