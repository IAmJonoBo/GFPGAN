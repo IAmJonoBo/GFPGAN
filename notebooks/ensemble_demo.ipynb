{
 "cells": [
  {
   "cell_type": "markdown",
   "id": "f9b2126f",
   "metadata": {},
   "source": [
    "# Ensemble Backend Demo (Dry-Run)\n",
    "\n",
    "This notebook shows how to invoke the GFPP CLI programmatically to simulate an ensemble run without downloading models.\n",
    "\n",
    "Notes:\n",
    "- We use a small sample image from `assets/` and enable `--dry-run` so no weights are downloaded.\n",
    "- You can tweak `--ensemble-backends` and `--ensemble-weights` safely in dry-run mode to see the planned config.\n",
    "- To actually restore faces, remove `--dry-run` and install the appropriate extras per the docs."
   ]
  },
  {
   "cell_type": "code",
   "execution_count": null,
   "id": "8e98febc",
   "metadata": {},
   "outputs": [],
   "source": [
    "# Minimal imports (avoid heavy libraries in dry-run)\n",
    "from src.gfpp.cli import cmd_run\n",
    "import os\n",
    "\n",
    "# Inputs/outputs\n",
    "inp = os.path.join('assets','gfpgan_logo.png')\n",
    "out = os.path.join('results','dry_demo','notebooks','ensemble')\n",
    "os.makedirs(out, exist_ok=True)\n",
    "\n",
    "# Ensemble configuration (safe in dry-run)\n",
    "args = [\n",
    "    '--input', inp,\n",
    "    '--output', out,\n",
    "    '--backend', 'ensemble',\n",
    "    '--ensemble-backends', 'gfpgan,codeformer,restoreformerpp',\n",
    "    '--ensemble-weights', '0.6,0.2,0.2',\n",
    "    '--metrics', 'off',\n",
    "    '--dry-run'\n",
    "]\n",
    "\n",
    "code = cmd_run(args)\n",
    "print('exit', code)\n",
    "print('Planned results directory:', out)"
   ]
  },
  {
   "cell_type": "code",
   "execution_count": null,
   "id": "6fac6116",
   "metadata": {},
   "outputs": [],
   "source": [
    "# Optional: inspect manifest if written during dry-run\n",
    "from glob import glob\n",
    "import json\n",
    "\n",
    "manifests = glob(os.path.join(out, 'manifest*.json'))\n",
    "print('Found manifests:', manifests)\n",
    "if manifests:\n",
    "    try:\n",
    "        with open(manifests[0], 'r') as f:\n",
    "            data = json.load(f)\n",
    "        print('env.runtime keys:', list((data.get('env', {}) or {}).get('runtime', {}).keys()))\n",
    "        print('images recorded:', len(data.get('images') or []))\n",
    "    except Exception as e:\n",
    "        print('Manifest read skipped:', e)"
   ]
  }
 ],
 "metadata": {
  "language_info": {
   "name": "python"
  }
 },
 "nbformat": 4,
 "nbformat_minor": 5
}
